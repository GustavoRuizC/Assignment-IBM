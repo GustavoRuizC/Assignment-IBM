{
 "cells": [
  {
   "cell_type": "markdown",
   "id": "004a2e58-f5e6-4b31-8b7c-5ddc9346be35",
   "metadata": {},
   "source": [
    "# Data Science Tools and Ecosystem"
   ]
  },
  {
   "cell_type": "markdown",
   "id": "e7d77caa-9f8f-4559-8c07-3ca6c0c42cde",
   "metadata": {},
   "source": [
    "In this notebook, Data Science Tools and Ecosystem are summarized."
   ]
  },
  {
   "cell_type": "markdown",
   "id": "5cc75ed4-8e85-432a-9b19-4f98d41ef43e",
   "metadata": {
    "tags": []
   },
   "source": [
    "**Objetives:**\n",
    "- Libraries for data science\n",
    "- Data science tools\n",
    "- popular languages for data science\n",
    "- arimethics"
   ]
  },
  {
   "cell_type": "markdown",
   "id": "0b2768f9-d629-48ee-b79a-49c061ad2185",
   "metadata": {},
   "source": [
    "Some of the popular languages that Data Scientists use are:\n",
    "1. Python\n",
    "2. R\n",
    "3. Ruby"
   ]
  },
  {
   "cell_type": "markdown",
   "id": "dbf2f075-5aac-4452-975e-d241f8ca8db6",
   "metadata": {},
   "source": [
    "Some of the commonly used libraries used by Data Scientists include:\n",
    "1. Pandas\n",
    "2. Numpy\n",
    "3. Seaborn"
   ]
  },
  {
   "cell_type": "markdown",
   "id": "f7c30544-426c-4c87-96b4-96a45149717c",
   "metadata": {},
   "source": [
    "## Table of Data Science Tools\n",
    "\n",
    "| Data Science Tools |\n",
    "|--------------------|\n",
    "|Jupyter Notebook|\n",
    "| Deepnote |\n",
    "| R studio |"
   ]
  },
  {
   "cell_type": "markdown",
   "id": "ac6e0866-1719-494e-ac0e-dd97af6b6b15",
   "metadata": {},
   "source": [
    "### Below are a few examples of evaluating arithmetic expressions in Python"
   ]
  },
  {
   "cell_type": "code",
   "execution_count": 1,
   "id": "c4264db8-0e11-4923-b678-732b2b1a7be7",
   "metadata": {
    "tags": []
   },
   "outputs": [
    {
     "data": {
      "text/plain": [
       "17"
      ]
     },
     "execution_count": 1,
     "metadata": {},
     "output_type": "execute_result"
    }
   ],
   "source": [
    "# This a simple arithmetic expression to mutiply then add integers\n",
    "(3*4)+5"
   ]
  },
  {
   "cell_type": "code",
   "execution_count": 2,
   "id": "2f465d52-4628-4ddb-ae54-8f30918432fe",
   "metadata": {
    "tags": []
   },
   "outputs": [
    {
     "data": {
      "text/plain": [
       "3.3333333333333335"
      ]
     },
     "execution_count": 2,
     "metadata": {},
     "output_type": "execute_result"
    }
   ],
   "source": [
    "# This will convert 200 minutes to hours by diving by 60\n",
    "200 / 60"
   ]
  },
  {
   "cell_type": "markdown",
   "id": "e6e7b36e-f076-40d8-851b-5b29fd4a4ceb",
   "metadata": {},
   "source": [
    "## Author\n",
    "\n",
    "Gustavo Ruiz"
   ]
  },
  {
   "cell_type": "code",
   "execution_count": null,
   "id": "e55cb5ca-9f41-4d3d-b88d-6f65cdb70b47",
   "metadata": {},
   "outputs": [],
   "source": []
  }
 ],
 "metadata": {
  "kernelspec": {
   "display_name": "Python",
   "language": "python",
   "name": "conda-env-python-py"
  },
  "language_info": {
   "codemirror_mode": {
    "name": "ipython",
    "version": 3
   },
   "file_extension": ".py",
   "mimetype": "text/x-python",
   "name": "python",
   "nbconvert_exporter": "python",
   "pygments_lexer": "ipython3",
   "version": "3.7.12"
  }
 },
 "nbformat": 4,
 "nbformat_minor": 5
}
